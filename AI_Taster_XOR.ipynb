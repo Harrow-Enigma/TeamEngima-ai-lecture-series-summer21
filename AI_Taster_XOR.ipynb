{
  "nbformat": 4,
  "nbformat_minor": 0,
  "metadata": {
    "colab": {
      "name": "AI Taster - XOR.ipynb",
      "private_outputs": true,
      "provenance": [],
      "collapsed_sections": [],
      "authorship_tag": "ABX9TyOuiW5zXtGDN92blx7fWtNE",
      "include_colab_link": true
    },
    "kernelspec": {
      "name": "python3",
      "display_name": "Python 3"
    },
    "language_info": {
      "name": "python"
    },
    "accelerator": "GPU"
  },
  "cells": [
    {
      "cell_type": "markdown",
      "metadata": {
        "id": "view-in-github",
        "colab_type": "text"
      },
      "source": [
        "<a href=\"https://colab.research.google.com/gist/PerceptronV/5dbcaa820bbf76c20021c303e1a4338b/ai-taster-xor.ipynb\" target=\"_parent\"><img src=\"https://colab.research.google.com/assets/colab-badge.svg\" alt=\"Open In Colab\"/></a>"
      ]
    },
    {
      "cell_type": "markdown",
      "metadata": {
        "id": "view-in-github",
        "colab_type": "text"
      },
      "source": [
        "<a href=\"https://mybinder.org/v2/gh/Harrow-Enigma/ai-lecture-series-summer21/HEAD?filepath=AI_Taster_XOR.ipynb\" target=\"_parent\"><img src=\"https://mybinder.org/badge_logo.svg\" alt=\"Open In Jupyter Binder\"/></a>"]
    },
    {
      "cell_type": "markdown",
      "metadata": {
        "id": "nLG2KhRhs5Y6"
      },
      "source": [
        "# AI Taster\n",
        "\n",
        "Train a model that learns the XOR function! Although this is a pretty basic demo, it does show you the general framework for training an AI,\n"
      ]
    },
    {
      "cell_type": "markdown",
      "metadata": {
        "id": "gU2vxZdOGbtO"
      },
      "source": [
        "Copyright 2021 Team Enigma\n",
        "\n",
        "Licensed under the Apache License, Version 2.0 (the \"License\");\n",
        "you may not use this file except in compliance with the License.\n",
        "You may obtain a copy of the License at\n",
        "\n",
        "    http://www.apache.org/licenses/LICENSE-2.0\n",
        "\n",
        "Unless required by applicable law or agreed to in writing, software\n",
        "distributed under the License is distributed on an \"AS IS\" BASIS,\n",
        "WITHOUT WARRANTIES OR CONDITIONS OF ANY KIND, either express or implied.\n",
        "See the License for the specific language governing permissions and\n",
        "limitations under the License."
      ]
    },
    {
      "cell_type": "markdown",
      "metadata": {
        "id": "ctsLzSG9tMRx"
      },
      "source": [
        "## Importing relevant libraries\n",
        "\n",
        "We will be using [TensorFlow](https://tensorflow.org/), a great Machine Learning library from Google!\n",
        "\n",
        "**Spoiler Alert!**\n",
        "\n",
        "Creating a machine learning project from scratch takes a lot of time, and gets you stuck into nitty-gritty details, instead of the more interesting high-level overview (which is what this lecture series is all about!).\n",
        "\n",
        "Most machine learning researchers nowadays use standard library like TensorFlow and PyTorch anyways, so there's nothing embarassing for us if we start off with libraries."
      ]
    },
    {
      "cell_type": "code",
      "metadata": {
        "id": "AHRDWe6vsToY"
      },
      "source": [
        "import tensorflow as tf"
      ],
      "execution_count": null,
      "outputs": []
    },
    {
      "cell_type": "markdown",
      "metadata": {
        "id": "3y-MTFO1tb4X"
      },
      "source": [
        "## Making the data\n",
        "\n",
        "The following code will define the XOR function, and generate a table of all possible outputs based on all possible inputs."
      ]
    },
    {
      "cell_type": "code",
      "metadata": {
        "id": "k-1kyTzItdOM"
      },
      "source": [
        "def XOR(a, b):\n",
        "  return int(a != b)"
      ],
      "execution_count": null,
      "outputs": []
    },
    {
      "cell_type": "code",
      "metadata": {
        "id": "T8ycPUxZtyQq"
      },
      "source": [
        "'''Testing our XOR function'''\n",
        "\n",
        "print(XOR(0, 0))\n",
        "print(XOR(0, 1))\n",
        "\n",
        "assert XOR(0, 0) == 0\n",
        "assert XOR(0, 1) == 1"
      ],
      "execution_count": null,
      "outputs": []
    },
    {
      "cell_type": "code",
      "metadata": {
        "id": "uvmyDkGit96j"
      },
      "source": [
        "'''Generating two lists:\n",
        "   1) A list of all possible inputs\n",
        "   2) A list of all possible outputs, in the same order as the inputs'''\n",
        "\n",
        "'''The outputs are formatted such that a `1` in the 0th index means 0,\n",
        "   and a `1` in the 1st index means 1. Essentially, we are treating this\n",
        "   as a classification problem.'''\n",
        "\n",
        "inp = [\n",
        "  [a, b] for a in range(2) for b in range(2)\n",
        "]\n",
        "\n",
        "out = [\n",
        "  [XOR(i[0], i[1])] for i in inp\n",
        "]"
      ],
      "execution_count": null,
      "outputs": []
    },
    {
      "cell_type": "code",
      "metadata": {
        "id": "jf-7dJ1Nu5f0"
      },
      "source": [
        "print('Inputs\\tOutput')\n",
        "for e, i in enumerate(inp):\n",
        "  print('{}\\t{}'.format(i, out[e]))"
      ],
      "execution_count": null,
      "outputs": []
    },
    {
      "cell_type": "markdown",
      "metadata": {
        "id": "b8vCuRKJvYoa"
      },
      "source": [
        "## Making the AI model\n",
        "\n",
        "In the following code, we will be making a basic neural network via the `tf.keras.Sequential` module."
      ]
    },
    {
      "cell_type": "code",
      "metadata": {
        "id": "LONPnZPJwWtM"
      },
      "source": [
        "model = tf.keras.Sequential()\n",
        "\n",
        "# Adds a fully connected layer of 16 neurons\n",
        "model.add(tf.keras.layers.Dense(16, input_dim=2, activation='relu'))\n",
        "\n",
        "# Adds a fully connected layer of 1 neuron\n",
        "# This is the output layer\n",
        "model.add(tf.keras.layers.Dense(1, activation='sigmoid'))"
      ],
      "execution_count": null,
      "outputs": []
    },
    {
      "cell_type": "code",
      "metadata": {
        "id": "YOFGp6R6A8MB"
      },
      "source": [
        "model.summary()"
      ],
      "execution_count": null,
      "outputs": []
    },
    {
      "cell_type": "markdown",
      "metadata": {
        "id": "hrfz2vhnyBX8"
      },
      "source": [
        "## Loss functions\n",
        "\n",
        "Now, we define a loss function for our model.\n",
        "\n",
        "This is necessary as loss functions provide an AI system with a 'grading' of how well it's doing, so that it knows how it could improve.\n",
        "\n",
        "*Actually, there's more to the story.* 🤫 *Come to the lecture series to learn more!*"
      ]
    },
    {
      "cell_type": "code",
      "metadata": {
        "id": "opb35SvXyg5e"
      },
      "source": [
        "model.compile(loss='mean_squared_error',\n",
        "              optimizer='adam',\n",
        "              metrics=['binary_accuracy'])"
      ],
      "execution_count": null,
      "outputs": []
    },
    {
      "cell_type": "markdown",
      "metadata": {
        "id": "rFbZkXxExsWA"
      },
      "source": [
        "## Training!!!\n",
        "\n",
        "We shall use `model.fit` to train our model on the XOR dataset. In other words, we'd like to outputs to 'fit' those in the dataset.\n",
        "\n",
        "Good luck!\n"
      ]
    },
    {
      "cell_type": "code",
      "metadata": {
        "id": "3prEAZI0x94-"
      },
      "source": [
        "model.fit(inp, out, epochs = 200)"
      ],
      "execution_count": null,
      "outputs": []
    },
    {
      "cell_type": "markdown",
      "metadata": {
        "id": "pLpqocRZ88SK"
      },
      "source": [
        "## Predictions\n"
      ]
    },
    {
      "cell_type": "code",
      "metadata": {
        "id": "rXdKA4e-FUBh"
      },
      "source": [
        "# Change `inputs` to any combination you like,\n",
        "# and see if the AI gets it right!\n",
        "\n",
        "inputs = [0, 1]\n",
        "\n",
        "pred = model.predict([inputs])\n",
        "\n",
        "print(round(pred[0][0]))"
      ],
      "execution_count": null,
      "outputs": []
    }
  ]
}
